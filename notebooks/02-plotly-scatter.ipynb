{
 "cells": [
  {
   "cell_type": "markdown",
   "metadata": {},
   "source": [
    "# Plotly"
   ]
  },
  {
   "cell_type": "markdown",
   "metadata": {},
   "source": [
    "## Installing the dependencies\n",
    "\n",
    "We need to make sure that we have all of the dependencies we need installed. If you haven't already, please install the required python packages. You can do this inside this notebook by using:"
   ]
  },
  {
   "cell_type": "code",
   "execution_count": null,
   "metadata": {},
   "outputs": [],
   "source": [
    "!pip install \"plotly>=4\" numpy pandas"
   ]
  },
  {
   "cell_type": "markdown",
   "metadata": {},
   "source": [
    "Plotly used to be pretty finicky about displaying in Jupyter/Colab, but Plotly 4 allows things to just work."
   ]
  },
  {
   "cell_type": "markdown",
   "metadata": {},
   "source": [
    "We'll also download some supporting materials for this notebook:"
   ]
  },
  {
   "cell_type": "code",
   "execution_count": null,
   "metadata": {},
   "outputs": [],
   "source": [
    "# Download data and solutions\n",
    "\n",
    "import urllib.request\n",
    "import os\n",
    "\n",
    "def download_data(path):\n",
    "    if os.path.exists(path):\n",
    "        return\n",
    "    if not os.path.exists('data'):\n",
    "        os.mkdir('data')\n",
    "    if not os.path.exists('solutions'):\n",
    "        os.mkdir('solutions')\n",
    "    url = 'https://raw.githubusercontent.com/ualberta-rcg/python-plotting/master/notebooks/' + path\n",
    "    output_file = path\n",
    "    urllib.request.urlretrieve(url, output_file)\n",
    "    print(\"Downloaded \" + path)\n",
    "\n",
    "def show_solution(file):\n",
    "    fp = open('solutions/{}'.format(file), 'r')\n",
    "    print(fp.read())\n",
    "\n",
    "download_data('data/gapminder_gdp_europe.csv')\n",
    "download_data('solutions/plotly-scatter-add-trace2.py')\n",
    "download_data('solutions/plotly-scatter-netherlands-france.py')"
   ]
  },
  {
   "cell_type": "markdown",
   "metadata": {},
   "source": [
    "### Creating random points\n",
    "\n",
    "We'll create some random data points: one array for the x values, one array for y values, a hundred numbers in each.\n",
    "\n",
    "[`numpy.random.randn`](https://docs.scipy.org/doc/numpy/reference/generated/numpy.random.randn.html) samples points from a standard normal distribution (mean 0, standard deviation 1)."
   ]
  },
  {
   "cell_type": "code",
   "execution_count": null,
   "metadata": {},
   "outputs": [],
   "source": [
    "# Create random data with numpy\n",
    "import numpy as np\n",
    "\n",
    "N = 100\n",
    "\n",
    "random_x = np.random.randn(N)\n",
    "random_y = np.random.randn(N)\n",
    "\n",
    "# Poke around with one of these\n",
    "print(\"Length:\", len(random_x))\n",
    "print(\"First ten values:\", random_x[0:9])"
   ]
  },
  {
   "cell_type": "markdown",
   "metadata": {},
   "source": [
    "The `graph_objects` submodule of plotly has functions that will create our graph objects for us.\n",
    "\n",
    "A **trace** is just the name we give a collection of data and the specifications of which we want that data plotted. This terminology is used a lot in the plotly documentation. We can have any number of traces in a plot.\n",
    "\n",
    "## Scatter plots\n",
    "\n",
    "Here we will create a trace for a basic scatter plot, with the data coming from our generated data above."
   ]
  },
  {
   "cell_type": "code",
   "execution_count": null,
   "metadata": {},
   "outputs": [],
   "source": [
    "import plotly.graph_objects as go\n",
    "\n",
    "fig = go.Figure()\n",
    "fig.add_trace(go.Scatter(\n",
    "    x = random_x,\n",
    "    y = random_y,\n",
    "    mode = 'markers'\n",
    "))"
   ]
  },
  {
   "cell_type": "markdown",
   "metadata": {},
   "source": [
    "You'll notice that a plot appears. This is because the `add_trace` method returns a `Figure` object and that this is the last line of the cell.\n",
    "\n",
    "When the figure or (or a method that returns the figure) isn't the last line of a sell we can still show it using the `show` method."
   ]
  },
  {
   "cell_type": "code",
   "execution_count": null,
   "metadata": {},
   "outputs": [],
   "source": [
    "print('before')\n",
    "fig.show()\n",
    "print('after')"
   ]
  },
  {
   "cell_type": "markdown",
   "metadata": {},
   "source": [
    "Play around with the user interface (TODO: say more about this)"
   ]
  },
  {
   "cell_type": "markdown",
   "metadata": {},
   "source": [
    "Rather than embedding the plot, we can also use the `write_html` function to export our plot to an html file that we can put online, or email to a colleague. This function writes an html file at the location you provide in the first argument."
   ]
  },
  {
   "cell_type": "code",
   "execution_count": null,
   "metadata": {},
   "outputs": [],
   "source": [
    "fig.write_html('my-first-scatter.html')"
   ]
  },
  {
   "cell_type": "markdown",
   "metadata": {},
   "source": [
    "A warning though: the HTML file produced will be pretty huge."
   ]
  },
  {
   "cell_type": "markdown",
   "metadata": {},
   "source": [
    "**Note**: although we are getting our mock data from NumPy, please note that our data can just as easily come from Python lists, e.g.,: "
   ]
  },
  {
   "cell_type": "code",
   "execution_count": null,
   "metadata": {},
   "outputs": [],
   "source": [
    "fig = go.Figure()\n",
    "fig.add_trace(go.Scatter(\n",
    "    x = [1, 6, 4, 9],\n",
    "    y = [100, 56, 200, 48],\n",
    "    mode = 'markers'\n",
    "))"
   ]
  },
  {
   "cell_type": "markdown",
   "metadata": {},
   "source": [
    "There are a lot of options to modify the visual appearance of the scatter plot. For example we can connect the data points in the order they appear in the arrays:"
   ]
  },
  {
   "cell_type": "code",
   "execution_count": null,
   "metadata": {},
   "outputs": [],
   "source": [
    "fig = go.Figure()\n",
    "trace = go.Scatter(\n",
    "    x = random_x,\n",
    "    y = random_y,\n",
    "    mode = 'lines'\n",
    ")\n",
    "fig.add_trace(trace)\n",
    "fig.show()"
   ]
  },
  {
   "cell_type": "markdown",
   "metadata": {},
   "source": [
    "Or we can have both dots and lines:"
   ]
  },
  {
   "cell_type": "code",
   "execution_count": null,
   "metadata": {},
   "outputs": [],
   "source": [
    "go.Figure().add_trace(go.Scatter(x = random_x,\n",
    "                                 y = random_y,\n",
    "                                 mode = 'markers+lines'))"
   ]
  },
  {
   "cell_type": "markdown",
   "metadata": {},
   "source": [
    "Notice that we reduced three separate python statements into one statement above. We did not create a `trace` variable or a `data` variable as intermediate results.\n",
    "\n",
    "If this approach matches the style you prefer, then this is prefectly valid code, but it can make things harder to read (but might make things easier to modify in some situations)."
   ]
  },
  {
   "cell_type": "markdown",
   "metadata": {},
   "source": [
    "### What about those scatterplots where the dots change size because of another variable?\n",
    "\n",
    "This is something we can easily do by creating another random numpy array to hold size information, and set that as a configuration for the marker:"
   ]
  },
  {
   "cell_type": "code",
   "execution_count": null,
   "metadata": {},
   "outputs": [],
   "source": [
    "# Size must be positive and be big enough to see!\n",
    "random_size = np.absolute(np.random.randn(N)) * 30\n",
    "\n",
    "trace = go.Scatter(\n",
    "    x = random_x,\n",
    "    y = random_y,\n",
    "    mode = 'markers',\n",
    "    marker = {'size': random_size}\n",
    ")\n",
    "fig = go.Figure()\n",
    "fig.add_trace(trace)\n",
    "fig.show()"
   ]
  },
  {
   "cell_type": "markdown",
   "metadata": {},
   "source": [
    "### But I want a graph ..., you know, a line graph ...\n",
    "\n",
    "Lets create a hundred linear points in the x direction, evenly spaced between zero and one. The function [numpy.linspace](https://docs.scipy.org/doc/numpy/reference/generated/numpy.linspace.html) does this for us."
   ]
  },
  {
   "cell_type": "code",
   "execution_count": null,
   "metadata": {},
   "outputs": [],
   "source": [
    "linear_x = np.linspace(0, 1, N)\n",
    "\n",
    "# Poke around ...\n",
    "print(\"Length:\", len(linear_x))\n",
    "print(\"First ten values:\", linear_x[0:9])"
   ]
  },
  {
   "cell_type": "markdown",
   "metadata": {},
   "source": [
    "We can now make something that looks like a traditional graph:"
   ]
  },
  {
   "cell_type": "code",
   "execution_count": null,
   "metadata": {},
   "outputs": [],
   "source": [
    "fig = go.Figure()\n",
    "trace = go.Scatter(\n",
    "    x = linear_x,\n",
    "    y = random_y,\n",
    "    mode = 'lines'\n",
    ")\n",
    "fig.add_trace(trace)\n",
    "fig.show()"
   ]
  },
  {
   "cell_type": "markdown",
   "metadata": {},
   "source": [
    "### But I want two graphs...\n",
    "\n",
    "Let's create two random sets of Y values to plot:"
   ]
  },
  {
   "cell_type": "code",
   "execution_count": null,
   "metadata": {},
   "outputs": [],
   "source": [
    "# Mean 0, standard deviation 1\n",
    "random_y0 = np.random.randn(N)\n",
    "\n",
    "# Mean 2, standard deviation 1\n",
    "# Nudge the values up for these guys so the mean is 2 ...\n",
    "random_y1 = np.random.randn(N) + 2"
   ]
  },
  {
   "cell_type": "markdown",
   "metadata": {},
   "source": [
    "As mentioned earlier, we can plot multiple data sets by adding more traces to the array we pass to `iplot`:"
   ]
  },
  {
   "cell_type": "code",
   "execution_count": null,
   "metadata": {},
   "outputs": [],
   "source": [
    "fig = go.Figure()\n",
    "trace0 = go.Scatter(\n",
    "    x = linear_x,\n",
    "    y = random_y0,\n",
    "    mode = 'lines'\n",
    ")\n",
    "trace1 = go.Scatter(\n",
    "    x = linear_x,\n",
    "    y = random_y1,\n",
    "    mode = 'lines+markers'\n",
    ")\n",
    "fig.add_trace(trace0)\n",
    "fig.add_trace(trace1)\n",
    "fig.show()"
   ]
  },
  {
   "cell_type": "markdown",
   "metadata": {},
   "source": [
    "Previous versions of Plotly by default had a button to \"Compare data on Hover\" that was removed fairly recently. We can turn it on using the following command:"
   ]
  },
  {
   "cell_type": "code",
   "execution_count": null,
   "metadata": {},
   "outputs": [],
   "source": [
    "fig.update_layout(hovermode='x')"
   ]
  },
  {
   "cell_type": "markdown",
   "metadata": {},
   "source": [
    "By the way, in recent versions of plotly, we can create the scatter plot and add it to the figure in one function call with the `add_scatter` method."
   ]
  },
  {
   "cell_type": "code",
   "execution_count": null,
   "metadata": {},
   "outputs": [],
   "source": [
    "# Compare with above ...\n",
    "\n",
    "fig = go.Figure()\n",
    "fig.add_scatter(\n",
    "    x = linear_x,\n",
    "    y = random_y0,\n",
    "    mode = 'lines'\n",
    ")\n",
    "fig.add_scatter(\n",
    "    x = linear_x,\n",
    "    y = random_y1,\n",
    "    mode = 'lines+markers'\n",
    ")\n",
    "fig.show()"
   ]
  },
  {
   "cell_type": "markdown",
   "metadata": {},
   "source": [
    "### Exercise\n",
    "\n",
    "The code above is repeated below.\n",
    "\n",
    "Modify the code:\n",
    "* Generate another random data set called `random_y2`. This data should be sampled from a distribution with mean `-2`.\n",
    "* Create a third trace called `trace2` using this data.\n",
    "* Plot all three datasets. We want `trace2` to be represented as markers only."
   ]
  },
  {
   "cell_type": "code",
   "execution_count": null,
   "metadata": {},
   "outputs": [],
   "source": [
    "# Your code here ...\n",
    "# Modify this code as described above\n",
    "\n",
    "fig = go.Figure()\n",
    "fig.add_scatter(\n",
    "    x = linear_x,\n",
    "    y = random_y0,\n",
    "    mode = 'lines'\n",
    ")\n",
    "fig.add_scatter(\n",
    "    x = linear_x,\n",
    "    y = random_y1,\n",
    "    mode = 'lines+markers'\n",
    ")\n",
    "\n",
    "fig.show()"
   ]
  },
  {
   "cell_type": "code",
   "execution_count": null,
   "metadata": {},
   "outputs": [],
   "source": [
    "# PRINT SOLUTION (copy/paste output into a cell to run)\n",
    "show_solution('plotly-scatter-add-trace2.py')"
   ]
  },
  {
   "cell_type": "markdown",
   "metadata": {},
   "source": [
    "### We can control many more aspects of the visual representation of our plots\n",
    "\n",
    "Some obvious choices are:\n",
    "* color\n",
    "* marker size\n",
    "* marker color\n",
    "* line width\n",
    "* line color\n",
    "* name (that shows up in the legend)\n",
    "\n",
    "Some of the options to do this become a bit arcane, so the [scatter documentation](https://plot.ly/python/line-and-scatter/) will be your friend...\n",
    "\n",
    "Here is an example:"
   ]
  },
  {
   "cell_type": "code",
   "execution_count": null,
   "metadata": {},
   "outputs": [],
   "source": [
    "trace0 = go.Scatter(\n",
    "    x = linear_x,\n",
    "    y = random_y0,\n",
    "    mode = 'lines+markers',\n",
    "    name = 'Size of thing',\n",
    "    marker = dict(\n",
    "      size = 10,\n",
    "      color = 'rgba(255, 182, 193, .9)',\n",
    "      line = dict(\n",
    "        width = 2,\n",
    "      )\n",
    "    ),\n",
    ")\n",
    "trace1 = go.Scatter(\n",
    "    x = linear_x,\n",
    "    y = random_y1,\n",
    "    mode = 'lines',\n",
    "    name = 'Size of other thing',\n",
    "    line = dict(\n",
    "      width = 5,\n",
    "      color = 'rgba(50, 50, 255, .5)',\n",
    "    )\n",
    ")\n",
    "\n",
    "fig = go.Figure(data = [trace0, trace1])\n",
    "fig.show()"
   ]
  },
  {
   "cell_type": "markdown",
   "metadata": {},
   "source": [
    "Notice that this time we didn't use the `add_trace` method, but instead declared our figure with the traces in a list as a `data` attribute."
   ]
  },
  {
   "cell_type": "markdown",
   "metadata": {},
   "source": [
    "### No, I want a green line instead\n",
    "\n",
    "We can edit these styles after the fact, then re-plot using the `update_traces` method.\n",
    "\n",
    "The `selector` allows us to match certain criteria to determine which traces we want to update (no `selector` keyword argument means update all of the traces).\n",
    "\n",
    "The other arguments determine what we want to change about the selected traces.\n",
    "\n",
    "(Personal log: this used to be a bit easier (but less robust) in Plotly 3."
   ]
  },
  {
   "cell_type": "code",
   "execution_count": null,
   "metadata": {},
   "outputs": [],
   "source": [
    "fig.update_traces(selector=dict(name='Size of thing'),\n",
    "                  marker=dict(color='rgba(50, 255, 50, .5)'))\n",
    "fig.show()"
   ]
  },
  {
   "cell_type": "markdown",
   "metadata": {},
   "source": [
    "### Yeah, but you should always label your axes and have a title\n",
    "\n",
    "For plotly, there are many ways to label your axes and supply a title. There is a lot of flexibility so that you can change fonts and sizes and affect a lot of attributes of the **layout** of a plot.\n",
    "\n",
    "The easiest way is to use the `update_layout` method if you want to do simple things...\n"
   ]
  },
  {
   "cell_type": "code",
   "execution_count": null,
   "metadata": {},
   "outputs": [],
   "source": [
    "# Create the figure\n",
    "fig = go.Figure(data=[trace0, trace1])\n",
    "fig.update_layout(title = 'The size of a couple of things',\n",
    "                  xaxis_title = 'Time (Seconds)',\n",
    "                  yaxis_title = 'Width (inches)')\n",
    "# Plot the figure\n",
    "fig.show()"
   ]
  },
  {
   "cell_type": "markdown",
   "metadata": {},
   "source": [
    "### Yeah, but my data is in a Pandas dataframe\n",
    "\n",
    "Lets load one of those Gapminder datasets (Europe) into a dataframe, and convert the columns to nice numeric values."
   ]
  },
  {
   "cell_type": "code",
   "execution_count": null,
   "metadata": {},
   "outputs": [],
   "source": [
    "import pandas as pd\n",
    "\n",
    "df = pd.read_csv('data/gapminder_gdp_europe.csv', index_col='country')\n",
    "\n",
    "print(\"Yucky columns:\", df.columns )\n",
    "\n",
    "# Extract year from last 4 characters of each column name\n",
    "years = df.columns.str.strip('gdpPercap_')\n",
    "\n",
    "# Convert year values to integers, saving results back to dataframe\n",
    "df.columns = years.astype(int)\n",
    "print(\"Nice columns:\", df.columns )\n",
    "\n",
    "# Look at the first five rows...\n",
    "df.head()"
   ]
  },
  {
   "cell_type": "markdown",
   "metadata": {},
   "source": [
    "We can now slice our dataframe to plot it. Here we plot GDP per-capita data for the Netherlands and France."
   ]
  },
  {
   "cell_type": "code",
   "execution_count": null,
   "metadata": {},
   "outputs": [],
   "source": [
    "trace0 = go.Scatter(\n",
    "    x = df.columns,\n",
    "    y = df.loc['Netherlands'],\n",
    "    mode = 'lines'\n",
    ")\n",
    "trace1 = go.Scatter(\n",
    "    x = df.columns,\n",
    "    y = df.loc['France'],\n",
    "    mode = 'lines+markers'\n",
    ")\n",
    "\n",
    "fig = go.Figure(data=[trace0, trace1])\n",
    "fig.show()"
   ]
  },
  {
   "cell_type": "markdown",
   "metadata": {},
   "source": [
    "### Exercise\n",
    "\n",
    "That last graph was awesome ... BUT:\n",
    "\n",
    "* The graph should be titled 'GDP per-capita for the Netherlands and France'\n",
    "* The Netherlands graph is called 'trace 0', and the France graph is called 'trace 1'. They should be named after the country.\n",
    "* The x-axis should be labeled 'Year'\n",
    "* The y-axis should be labeled 'GDP per-capita'\n",
    "* The France graph should be blue (`'rgb(0, 0, 255)'`) and the Netherlands graph should be orange (`'rgb(255, 127, 0)'`)\n",
    "\n",
    "Apply what you have learned in this notebook to fix the graph!"
   ]
  },
  {
   "cell_type": "code",
   "execution_count": null,
   "metadata": {},
   "outputs": [],
   "source": [
    "# Your code here ..."
   ]
  },
  {
   "cell_type": "code",
   "execution_count": null,
   "metadata": {},
   "outputs": [],
   "source": [
    "# PRINT SOLUTION (copy/paste output into a cell to run)\n",
    "show_solution('plotly-scatter-netherlands-france.py')"
   ]
  },
  {
   "cell_type": "markdown",
   "metadata": {},
   "source": [
    "There is a new component of Plotly called **Plotly Express** that has a lot of features including:\n",
    "\n",
    "* A simple syntax for doing simple things\n",
    "* Access to example data sets\n",
    "* Also works with Graph Objects so can use methods like `add_trace`, etc.\n",
    "* Nice integration with Pandas\n"
   ]
  },
  {
   "cell_type": "code",
   "execution_count": null,
   "metadata": {},
   "outputs": [],
   "source": [
    "import plotly.express as px\n",
    "\n",
    "# Loads a pandas dataframe from an example data set\n",
    "df = px.data.iris()\n",
    "\n",
    "fig = px.scatter(df, x=\"sepal_width\", y=\"sepal_length\", color=\"species\",\n",
    "                 title=\"A Plotly Express Figure\")\n",
    "\n",
    "fig.show()"
   ]
  },
  {
   "cell_type": "markdown",
   "metadata": {},
   "source": [
    "### Summary\n",
    "\n",
    "Here are some key points:\n",
    "\n",
    "* Data is organized in traces, which hold x, y data and style information\n",
    "* Traces are combined into a figure (with optional layout information).\n",
    "* `fig.show()` puts a plot in a notebook, `write_html` generates a web page.\n",
    "* One or more traces can be plotted as `data`\n",
    "* Data can be combined with `layout` to make a figure\n",
    "\n",
    "We will see this same overall pattern with other types of plotly plot types.\n",
    "\n",
    "What we have seen so far is the tip of the iceberg: consult the Plotly documentation (and Stackoverflow) to find out all the options."
   ]
  },
  {
   "cell_type": "markdown",
   "metadata": {},
   "source": [
    "**[On to the next notebook (Plotly Bar charts)](03-plotly-bar.ipynb) ...**"
   ]
  }
 ],
 "metadata": {
  "kernelspec": {
   "display_name": "Python 3 (ipykernel)",
   "language": "python",
   "name": "python3"
  },
  "language_info": {
   "codemirror_mode": {
    "name": "ipython",
    "version": 3
   },
   "file_extension": ".py",
   "mimetype": "text/x-python",
   "name": "python",
   "nbconvert_exporter": "python",
   "pygments_lexer": "ipython3",
   "version": "3.9.7"
  }
 },
 "nbformat": 4,
 "nbformat_minor": 4
}
