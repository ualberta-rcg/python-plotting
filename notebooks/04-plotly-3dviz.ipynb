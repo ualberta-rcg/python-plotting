{
 "cells": [
  {
   "cell_type": "markdown",
   "metadata": {},
   "source": [
    "# Dealing with 3D data\n",
    "\n",
    "... or more accurately, dealing with scalar data defined on a 2D grid\n",
    "\n",
    "... much like you might find in a Pandas dataframe!\n",
    "\n",
    "... or a spreadsheet!"
   ]
  },
  {
   "cell_type": "markdown",
   "metadata": {},
   "source": [
    "Lets initialize Plotly to work in our notebook:"
   ]
  },
  {
   "cell_type": "code",
   "execution_count": null,
   "metadata": {},
   "outputs": [],
   "source": [
    "import plotly.graph_objects as go"
   ]
  },
  {
   "cell_type": "markdown",
   "metadata": {},
   "source": [
    "May need to download supporting materials ..."
   ]
  },
  {
   "cell_type": "code",
   "execution_count": null,
   "metadata": {},
   "outputs": [],
   "source": [
    "# Download data and solutions\n",
    "\n",
    "import urllib.request\n",
    "import os\n",
    "\n",
    "def download_data(path):\n",
    "    if os.path.exists(path):\n",
    "        return\n",
    "    if not os.path.exists('data'):\n",
    "        os.mkdir('data')\n",
    "    if not os.path.exists('solutions'):\n",
    "        os.mkdir('solutions')\n",
    "    url = 'https://raw.githubusercontent.com/ualberta-rcg/python-plotting/master/notebooks/' + path\n",
    "    output_file = path\n",
    "    urllib.request.urlretrieve(url, output_file)\n",
    "    print(\"Downloaded \" + path)\n",
    "\n",
    "download_data('data/gapminder_gdp_europe.csv')"
   ]
  },
  {
   "cell_type": "markdown",
   "metadata": {},
   "source": [
    "## Dataset: a paraboloid\n",
    "\n",
    "Lets first create an artificial dataset. We will create a [paraboloid](https://en.wikipedia.org/wiki/Paraboloid).\n",
    "\n",
    "![](assets/paraboloid.png)\n",
    "\n",
    "(Or at least an approximation of one.)\n",
    "\n",
    "The data for our paraboloid will be defined on a grid of points and stored as a 2D-array of Z values.\n",
    "\n",
    "The indices of the columns go from `0 ... (width - 1)` (x direction).\n",
    "\n",
    "The indices of the rows go from `0 ... (height - 1)` (y direction).\n",
    "\n",
    "But we don't want these indices to be the x, y values for our calculations: in particular, we want to minimum point of our paraboloid to be roughly in the middle of the plot.\n",
    "\n",
    "We can write functions to calculate the x, y values based on where we are in the row, columns of our 2d array. We can then use those x, y values to define a function `f(x, y)` as the formula for our paraboloid."
   ]
  },
  {
   "cell_type": "code",
   "execution_count": null,
   "metadata": {},
   "outputs": [],
   "source": [
    "# Convert column into physical x location\n",
    "def get_x(column, width):\n",
    "    return (column - width/2)\n",
    "\n",
    "# Convert row into physical y location\n",
    "def get_y(row, height):\n",
    "    return (row - height/2)\n",
    "\n",
    "# A paraboloid\n",
    "def f(x, y):\n",
    "    return(x**2 + y**2)"
   ]
  },
  {
   "cell_type": "markdown",
   "metadata": {},
   "source": [
    "We will now:\n",
    "\n",
    "* Create a 1D-array of `x` values (18 or them)\n",
    "* Create a 1D-array of `y` values (16 of them)\n",
    "* use numpy to help us define a 2D-array (18 x 16)\n",
    "* Loop over the row and columns to assign the 'z' values to the 2D-array.\n"
   ]
  },
  {
   "cell_type": "code",
   "execution_count": null,
   "metadata": {},
   "outputs": [],
   "source": [
    "import numpy as np\n",
    "\n",
    "# Create 2D array to hold values\n",
    "# Number of columns is width\n",
    "# Number of rows is height\n",
    "\n",
    "width = 18\n",
    "height = 16\n",
    "\n",
    "# NEW! (?) List comprehensions to define lists!\n",
    "x = [get_x(column, width) for column in range(width)]\n",
    "y = [get_y(row, height) for row in range(height)]\n",
    "z = np.zeros(shape=(width,height))\n",
    "\n",
    "# Compute 2d arrays of z values for the paraboloid\n",
    "for row in range(height):\n",
    "    for column in range(width):\n",
    "        z[column][row] = f(x[column], y[row])"
   ]
  },
  {
   "cell_type": "markdown",
   "metadata": {},
   "source": [
    "### How about a heatmap?\n",
    "\n",
    "Now that we have our lattice, we can very quickly and easily plot a heatmap:"
   ]
  },
  {
   "cell_type": "code",
   "execution_count": null,
   "metadata": {},
   "outputs": [],
   "source": [
    "data = [\n",
    "    go.Heatmap(\n",
    "        z=z,\n",
    "    )\n",
    "]\n",
    "fig = go.Figure(data=data)\n",
    "fig.show()"
   ]
  },
  {
   "cell_type": "markdown",
   "metadata": {},
   "source": [
    "### The X and Y axes values have the column indices ... I want the x, y values\n",
    "\n",
    "We an provide our x, y values as options:"
   ]
  },
  {
   "cell_type": "code",
   "execution_count": null,
   "metadata": {},
   "outputs": [],
   "source": [
    "data = [\n",
    "    go.Heatmap(\n",
    "        x=x,\n",
    "        y=y,\n",
    "        z=z,\n",
    "    )\n",
    "]\n",
    "fig = go.Figure(data=data)\n",
    "fig.show()"
   ]
  },
  {
   "cell_type": "markdown",
   "metadata": {},
   "source": [
    "### Looks kind of blocky though ...\n",
    "\n",
    "Our data is by it's nature blocky, but we can ask plotly to smooth it out using the `zsmooth` option. This can have values of `fast` and `best`.\n",
    "\n",
    "Only the best for us:"
   ]
  },
  {
   "cell_type": "code",
   "execution_count": null,
   "metadata": {},
   "outputs": [],
   "source": [
    "# To spice things up, we'll define our heatmap as a trace this time ...\n",
    "\n",
    "trace = go.Heatmap(\n",
    "    x=x,\n",
    "    y=y,\n",
    "    z=z,\n",
    "    zsmooth='best'\n",
    ")\n",
    "\n",
    "fig = go.Figure()\n",
    "fig.add_trace(trace)\n",
    "fig.show()"
   ]
  },
  {
   "cell_type": "markdown",
   "metadata": {},
   "source": [
    "### Nice, but the colors are kind of boring ...\n",
    "\n",
    "Plotly maintains a collection of color scales to paint data with.\n",
    "\n",
    "The default color scale is called `'Plasma'`.\n",
    "\n",
    "According to the `help` documentation for `Heatmap`, the color scale names are:\n",
    "\n",
    "```\n",
    "['Greys', 'YlGnBu', 'Greens', 'YlOrRd', 'Bluered', 'RdBu',\n",
    " 'Reds', 'Blues', 'Picnic', 'Rainbow', 'Portland', 'Jet',\n",
    " 'Hot', 'Blackbody', 'Earth', 'Electric', 'Viridis', 'Cividis']\n",
    "```\n",
    "\n",
    "But it turns out there are a whole lot more:\n",
    "\n",
    "https://plotly.com/python/builtin-colorscales/\n",
    "\n",
    "Let's check out `'Jet'`:"
   ]
  },
  {
   "cell_type": "code",
   "execution_count": null,
   "metadata": {},
   "outputs": [],
   "source": [
    "data = [\n",
    "    go.Heatmap(\n",
    "        x=x,\n",
    "        y=y,\n",
    "        z=z,\n",
    "        colorscale='Jet'\n",
    "    )\n",
    "]\n",
    "fig = go.Figure(data=data)\n",
    "fig.show()"
   ]
  },
  {
   "cell_type": "markdown",
   "metadata": {},
   "source": [
    "### No, I don't want those -- I want one that is pink for the high values, dark grey in the middle, and turquoise for the low values.\n",
    "\n",
    "No problem, we can set `colorscale` to be a list that maps normalized values (`0` means the lowest value, `1` means the highest value) to RGB values"
   ]
  },
  {
   "cell_type": "code",
   "execution_count": null,
   "metadata": {},
   "outputs": [],
   "source": [
    "data = [\n",
    "    go.Heatmap(\n",
    "        x=x,\n",
    "        y=y,\n",
    "        z=z,\n",
    "        colorscale = [[0.0, 'rgb(0,255,255)'],\n",
    "                      [0.5, 'rgb(51,51,51)'],\n",
    "                      [1.0, 'rgb(255,128,128)']]\n",
    "    )\n",
    "]\n",
    "\n",
    "fig = go.Figure(data=data)\n",
    "fig.show()"
   ]
  },
  {
   "cell_type": "markdown",
   "metadata": {},
   "source": [
    "### I was kidding about the colors ... how about a contour plot through?\n",
    "\n",
    "We just replace the word `Heatmap` with `Contour`:"
   ]
  },
  {
   "cell_type": "code",
   "execution_count": null,
   "metadata": {},
   "outputs": [],
   "source": [
    "data = [\n",
    "    go.Contour(\n",
    "        x=x,\n",
    "        y=y,\n",
    "        z=z,\n",
    "        colorscale='Jet'\n",
    "    )\n",
    "]\n",
    "\n",
    "fig = go.Figure(data=data)\n",
    "fig.show()"
   ]
  },
  {
   "cell_type": "markdown",
   "metadata": {},
   "source": [
    "### But why is the thing squashed?\n",
    "\n",
    "We've glossed over the fact that aspect ratio of the heatmap doesn't really match what we would expect for a paraboloid.\n",
    "\n",
    "Below we set the y-axis to scale with the x-axis to keep the aspect ratio to what we expect. Constraining the x-axis to 'domain' ensures that the graph itself doesn't stretch out to fit the width of the notebook (comment out that code to see the effect)."
   ]
  },
  {
   "cell_type": "code",
   "execution_count": null,
   "metadata": {},
   "outputs": [],
   "source": [
    "data = [\n",
    "    go.Contour(\n",
    "        x=x,\n",
    "        y=y,\n",
    "        z=z,\n",
    "        colorscale='Jet'\n",
    "    )\n",
    "]\n",
    "layout = go.Layout(\n",
    "  xaxis = {\n",
    "    'constrain': 'domain'\n",
    "  }, \n",
    "  yaxis = {\n",
    "    'scaleanchor': 'x'\n",
    "  }\n",
    ")\n",
    "fig = go.Figure(data=data, layout=layout)\n",
    "fig.show()"
   ]
  },
  {
   "cell_type": "markdown",
   "metadata": {},
   "source": [
    "### Now I just want the thing to look 3D ...\n",
    "\n",
    "Again easy change ... now we just replace `Contour` with `Surface`.\n",
    "\n",
    "We'll also give our plot a title ... and color it with the `'Viridis'` color scheme."
   ]
  },
  {
   "cell_type": "code",
   "execution_count": null,
   "metadata": {},
   "outputs": [],
   "source": [
    "data = [\n",
    "    go.Surface(\n",
    "        x=x,\n",
    "        y=y,\n",
    "        z=z,\n",
    "        colorscale='Viridis'\n",
    "    )\n",
    "]\n",
    "layout = go.Layout(\n",
    "    title='Real 3d stuff'\n",
    ")\n",
    "fig = go.Figure(data=data, layout=layout)\n",
    "fig.show()"
   ]
  },
  {
   "cell_type": "markdown",
   "metadata": {},
   "source": [
    "## Applying what we have learned to data coming from a Pandas DataFrame\n",
    "\n",
    "If you think about it, a lot of the data you see in a spreadsheet (or DataFrame) looks a lot like a 2D-array of values, like our paraboloid.\n",
    "\n",
    "Lets import pandas and load in our European GDP per capita data. We will also convert our column names to integer years."
   ]
  },
  {
   "cell_type": "code",
   "execution_count": null,
   "metadata": {},
   "outputs": [],
   "source": [
    "import pandas as pd\n",
    "\n",
    "df = pd.read_csv('data/gapminder_gdp_europe.csv', index_col='country')\n",
    "years = df.columns.str.strip('gdpPercap_')\n",
    "df.columns = years.astype(int)"
   ]
  },
  {
   "cell_type": "markdown",
   "metadata": {},
   "source": [
    "## Same song, different key ...\n",
    "\n",
    "It's now very easy to plot a heatmap of our data.\n",
    "\n",
    "We will use the years as the x values, the country names as the y values, and add a title:"
   ]
  },
  {
   "cell_type": "code",
   "execution_count": null,
   "metadata": {},
   "outputs": [],
   "source": [
    "# Some versions will prefer `z=df.to_numpy()` below\n",
    "\n",
    "data = [\n",
    "    go.Heatmap(\n",
    "        x=years,\n",
    "        y=df.index,\n",
    "        z=df,\n",
    "        colorscale='Jet'\n",
    "    )\n",
    "]\n",
    "layout = go.Layout(\n",
    "    title='GDP per-capita',\n",
    "    yaxis=dict(tickmode='linear',\n",
    "               tickangle=45)\n",
    ")\n",
    "fig = go.Figure(data=data, layout=layout)\n",
    "fig.show()"
   ]
  },
  {
   "cell_type": "markdown",
   "metadata": {},
   "source": [
    "### Try this (10 minutes)\n",
    "\n",
    "What's going on here?\n",
    "\n",
    "```python\n",
    "    yaxis=dict(tickmode='linear',\n",
    "               tickangle=45)\n",
    "```\n",
    "\n",
    "Try removing one or more of those options to see why these options were included.\n",
    "\n",
    "Play around with some of the options described on [this page](https://plot.ly/python/axes/#set-and-style-axes-title-labels-and-ticks) and use them to annotate your heatmap."
   ]
  },
  {
   "cell_type": "markdown",
   "metadata": {},
   "source": [
    "### But I hate those hover messages ...\n",
    "\n",
    "A default hover text for one of the heatmap cells might look like:\n",
    "\n",
    "```\n",
    "x: 1982\n",
    "y: Croatia\n",
    "z: 13.22182k\n",
    "```\n",
    "\n",
    "Although the variables `x`, `y`, and `z` might be meaningful for Plotly, they will not be meaningful to any person looking at our heatmap.\n",
    "\n",
    "That can be changed by giving plotly a 2 dimensional array of hover text values to use for our heatmap.\n",
    "\n",
    "We have to make sure that we match the shape of the dataframe we are using (e.g., if our dataframe has 20 rows and 40 columns, our array of hover text values also must have 20 rows and 40 columns.\n",
    "\n",
    "We can use the Pandas dataframe method `iterrows` to iterate over all of the rows in the dataframe (we will also have access to the row index, which is a country name). Then for each row, we can iterate over each column using the `iteritems` method (and we will have access to the column names).\n",
    "\n",
    "Here's how we would want to construct our hover text values:"
   ]
  },
  {
   "cell_type": "code",
   "execution_count": null,
   "metadata": {},
   "outputs": [],
   "source": [
    "hovertext = []\n",
    "arow = None\n",
    "for country, row in df.iterrows():\n",
    "    hoverrow = []\n",
    "    for year, data in row.items():\n",
    "        hoverrow.append(str(year) + ': '+ country + ' GDP per-capita is ' + str(data))\n",
    "    hovertext.append(hoverrow)"
   ]
  },
  {
   "cell_type": "markdown",
   "metadata": {},
   "source": [
    "We're done, but we can use Pandas to visually inspect the first five rows ..."
   ]
  },
  {
   "cell_type": "code",
   "execution_count": null,
   "metadata": {},
   "outputs": [],
   "source": [
    "pd.DataFrame(hovertext).head()"
   ]
  },
  {
   "cell_type": "markdown",
   "metadata": {},
   "source": [
    "Now we are ready to redo our heat map.\n",
    "\n",
    "We use the options `hoverinfo='text'` and `text=hovertext` to make it work."
   ]
  },
  {
   "cell_type": "code",
   "execution_count": null,
   "metadata": {},
   "outputs": [],
   "source": [
    "data = [\n",
    "    go.Heatmap(\n",
    "        x=years,\n",
    "        y=df.index,\n",
    "        z=df,\n",
    "        hoverinfo='text',\n",
    "        text=hovertext,\n",
    "        colorscale='Jet'\n",
    "    )\n",
    "]\n",
    "layout = go.Layout(\n",
    "    title='GDP per-capita',\n",
    "    yaxis=dict(tickmode='linear',\n",
    "               tickangle=45)\n",
    ")\n",
    "fig = go.Figure(data=data, layout=layout)\n",
    "fig.show()"
   ]
  },
  {
   "cell_type": "markdown",
   "metadata": {},
   "source": [
    "### Sorting by one of the years? (2007)\n",
    "\n",
    "This is more of a Pandas feature than a plotly one, but here's how it's done:"
   ]
  },
  {
   "cell_type": "code",
   "execution_count": null,
   "metadata": {},
   "outputs": [],
   "source": [
    "df_sorted = df.sort_values(2007)\n",
    "\n",
    "data = [\n",
    "    go.Heatmap(\n",
    "        x=years,\n",
    "        y=df_sorted.index,\n",
    "        z=df_sorted,\n",
    "        colorscale='Jet'\n",
    "    )\n",
    "]\n",
    "layout = go.Layout(\n",
    "    title='GDP per-capita',\n",
    "    yaxis=dict(tickmode='linear',\n",
    "               tickangle=45)\n",
    ")\n",
    "fig = go.Figure(data=data, layout=layout)\n",
    "fig.show()"
   ]
  },
  {
   "cell_type": "markdown",
   "metadata": {},
   "source": [
    "### Insight\n",
    "\n",
    "What can you say about the per capita GDB of Ireland during the period of time reported?"
   ]
  },
  {
   "cell_type": "markdown",
   "metadata": {},
   "source": [
    "**[On to the next notebook (Plotly controls)](05-plotly-controls.ipynb) ...**"
   ]
  }
 ],
 "metadata": {
  "kernelspec": {
   "display_name": "Python 3 (ipykernel)",
   "language": "python",
   "name": "python3"
  },
  "language_info": {
   "codemirror_mode": {
    "name": "ipython",
    "version": 3
   },
   "file_extension": ".py",
   "mimetype": "text/x-python",
   "name": "python",
   "nbconvert_exporter": "python",
   "pygments_lexer": "ipython3",
   "version": "3.10.6"
  }
 },
 "nbformat": 4,
 "nbformat_minor": 2
}
