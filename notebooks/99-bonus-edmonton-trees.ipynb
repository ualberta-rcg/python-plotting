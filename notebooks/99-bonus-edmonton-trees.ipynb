{
 "cells": [
  {
   "cell_type": "markdown",
   "metadata": {},
   "source": [
    "# Bonus: Plotting some data from the City of Edmonton data catalog"
   ]
  },
  {
   "cell_type": "markdown",
   "metadata": {},
   "source": [
    "Initialize plotly as usual:"
   ]
  },
  {
   "cell_type": "code",
   "execution_count": null,
   "metadata": {},
   "outputs": [],
   "source": [
    "import plotly.graph_objects as go\n",
    "import pandas as pd\n",
    "import numpy as np"
   ]
  },
  {
   "cell_type": "markdown",
   "metadata": {},
   "source": [
    "The city maintains a database of where the city owned trees are:\n",
    "\n",
    "* https://data.edmonton.ca/Environmental-Services/Trees/eecg-fc54\n",
    "* https://data.edmonton.ca/Environmental-Services/Trees/eecg-fc54/data\n",
    "\n",
    "It has over 360,000 entries.\n",
    "\n",
    "This is a bit much, but we can use the data API provided by the city to filter the trees.\n",
    "The API is documented here:\n",
    "\n",
    "https://dev.socrata.com/foundry/data.edmonton.ca/eecg-fc54\n",
    "\n",
    "We will just look at Green Ash trees:"
   ]
  },
  {
   "cell_type": "code",
   "execution_count": null,
   "metadata": {},
   "outputs": [],
   "source": [
    "import urllib.request\n",
    "import os\n",
    "\n",
    "if not os.path.exists('data'):\n",
    "    os.mkdir('data')\n",
    "\n",
    "url = 'https://data.edmonton.ca/resource/eecg-fc54.csv?species=Ash,%20Green&%24limit=100000'\n",
    "output_file = 'data/trees.csv'\n",
    "urllib.request.urlretrieve(url, output_file)\n",
    "print(\"Downloaded \" + output_file)"
   ]
  },
  {
   "cell_type": "code",
   "execution_count": null,
   "metadata": {},
   "outputs": [],
   "source": [
    "df = pd.read_csv('data/trees.csv')\n",
    "print(len(df))\n",
    "df.head()"
   ]
  },
  {
   "cell_type": "markdown",
   "metadata": {},
   "source": [
    "Let's see the range of the latitude values for the trees:"
   ]
  },
  {
   "cell_type": "code",
   "execution_count": null,
   "metadata": {},
   "outputs": [],
   "source": [
    "y_range = [df.latitude.min(), df.latitude.max()]\n",
    "y_range"
   ]
  },
  {
   "cell_type": "markdown",
   "metadata": {},
   "source": [
    "... and the range of the longitude values:"
   ]
  },
  {
   "cell_type": "code",
   "execution_count": null,
   "metadata": {},
   "outputs": [],
   "source": [
    "x_range = [df.longitude.min(), df.longitude.max()]\n",
    "x_range"
   ]
  },
  {
   "cell_type": "markdown",
   "metadata": {},
   "source": [
    "Lets make a heatmap to see how these trees are distributed!\n",
    "\n",
    "We will first want to count the trees in a 2D array of bins that span the longitude/latitude of the city."
   ]
  },
  {
   "cell_type": "code",
   "execution_count": null,
   "metadata": {},
   "outputs": [],
   "source": [
    "width = 40\n",
    "height = 40\n",
    "\n",
    "tree_counts = np.zeros(shape=(width,height))"
   ]
  },
  {
   "cell_type": "markdown",
   "metadata": {},
   "source": [
    "Here is a general purpose function that will decide what bin a tree will be counted in:"
   ]
  },
  {
   "cell_type": "code",
   "execution_count": null,
   "metadata": {},
   "outputs": [],
   "source": [
    "def bin_value(value, minval, maxval, resolution):\n",
    "    return int(round((resolution-1) * (value - minval) / (maxval - minval)))"
   ]
  },
  {
   "cell_type": "markdown",
   "metadata": {},
   "source": [
    "Now we iterate over the trees to sum up the bins:"
   ]
  },
  {
   "cell_type": "code",
   "execution_count": null,
   "metadata": {},
   "outputs": [],
   "source": [
    "for index, row in df.iterrows():\n",
    "    x = row.longitude\n",
    "    y = row.latitude\n",
    "    i = bin_value(x, x_range[0], x_range[1], width)\n",
    "    j = bin_value(y, y_range[0], y_range[1], height)\n",
    "    tree_counts[i][j] += 1"
   ]
  },
  {
   "cell_type": "code",
   "execution_count": null,
   "metadata": {},
   "outputs": [],
   "source": [
    "tree_counts"
   ]
  },
  {
   "cell_type": "markdown",
   "metadata": {},
   "source": [
    "And finally, the heatmap!"
   ]
  },
  {
   "cell_type": "code",
   "execution_count": null,
   "metadata": {},
   "outputs": [],
   "source": [
    "data = [\n",
    "    go.Heatmap(\n",
    "        z=tree_counts,\n",
    "    )\n",
    "]\n",
    "layout = {\n",
    "  'xaxis': {\n",
    "    'constrain': 'domain'\n",
    "  }, \n",
    "  'yaxis': {\n",
    "    'scaleanchor': 'x'\n",
    "  }\n",
    "}\n",
    "fig = go.Figure(data=data, layout=layout)\n",
    "fig.show()"
   ]
  },
  {
   "cell_type": "markdown",
   "metadata": {},
   "source": [
    "### To do: overlay a map somehow!\n",
    "\n",
    "For now, lets compare with a google map."
   ]
  },
  {
   "cell_type": "code",
   "execution_count": null,
   "metadata": {},
   "outputs": [],
   "source": [
    "import IPython\n",
    "iframe = '<iframe src=\"https://www.google.com/maps/embed?pb=!1m14!1m12!1m3!1d86756.31186242377!2d-113.47701978727787!3d53.52751941579225!2m3!1f0!2f0!3f0!3m2!1i1024!2i768!4f13.1!5e0!3m2!1sen!2sca!4v1569534170492!5m2!1sen!2sca\" width=\"600\" height=\"450\" frameborder=\"0\" style=\"border:0;\" allowfullscreen=\"\"></iframe>'\n",
    "IPython.display.HTML(iframe)"
   ]
  }
 ],
 "metadata": {
  "kernelspec": {
   "display_name": "Python 3 (ipykernel)",
   "language": "python",
   "name": "python3"
  },
  "language_info": {
   "codemirror_mode": {
    "name": "ipython",
    "version": 3
   },
   "file_extension": ".py",
   "mimetype": "text/x-python",
   "name": "python",
   "nbconvert_exporter": "python",
   "pygments_lexer": "ipython3",
   "version": "3.10.6"
  }
 },
 "nbformat": 4,
 "nbformat_minor": 2
}
