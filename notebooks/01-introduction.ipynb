{
 "cells": [
  {
   "cell_type": "markdown",
   "metadata": {},
   "source": [
    "# Plotting with Plotly"
   ]
  },
  {
   "cell_type": "markdown",
   "metadata": {},
   "source": [
    "## Course https://ualberta-rcg.github.io/python-plotting/"
   ]
  },
  {
   "cell_type": "markdown",
   "metadata": {},
   "source": [
    "## Notebooks: https://github.com/ualberta-rcg/python-plotting/archive/master.zip"
   ]
  },
  {
   "cell_type": "markdown",
   "metadata": {},
   "source": [
    "## Or just run in Colab ... https://colab.research.google.com"
   ]
  },
  {
   "cell_type": "markdown",
   "metadata": {},
   "source": [
    "# About this course\n",
    "\n",
    "This course is meant to be a continuation of our introduction to Python, Pandas, and Plotting course. This prerequisite course (based off of the Software Carpentries novice Python course), can be found here:\n",
    "\n",
    "https://ualberta-rcg.github.io/python-intro/\n",
    "\n",
    "If you haven't taken the prerequisite course, you might want to look it over to ensure that you understand the content covered there.\n",
    "\n",
    "In particular, you should already have Python and Jupyter installed, and know how to start a notebook server (or now how to run notebooks in Colab)."
   ]
  },
  {
   "cell_type": "markdown",
   "metadata": {},
   "source": [
    "# Contents\n",
    "\n",
    "* Introduction (this notebook)\n",
    "* [Plotly Scatter plots](02-plotly-scatter.ipynb)\n",
    "* [Plotly Bar charts](03-plotly-bar.ipynb)\n",
    "* [Plotly 3D Visualization and color scale](04-plotly-3dviz.ipynb)\n",
    "* [Plotly controls](05-plotly-controls.ipynb)\n",
    "* [(bonus) Edmonton Trees](99-bonus-edmonton-trees.ipynb)"
   ]
  },
  {
   "cell_type": "markdown",
   "metadata": {},
   "source": [
    "# Installing the dependencies\n",
    "We need to make sure that we have all of the dependencies we need installed. If you haven't already, please install the required python packages. You can do this inside this notebook by using:"
   ]
  },
  {
   "cell_type": "code",
   "execution_count": null,
   "metadata": {},
   "outputs": [],
   "source": [
    "!pip install matplotlib plotly pandas numpy"
   ]
  },
  {
   "cell_type": "markdown",
   "metadata": {},
   "source": [
    "# Plotting Packages\n",
    "\n",
    "The following plotting packages are all currently very popular, and will compliment each other in your tool box."
   ]
  },
  {
   "cell_type": "markdown",
   "metadata": {
    "colab_type": "text",
    "id": "IosK1C97W_S8"
   },
   "source": [
    "## Matplotlib\n",
    "\n",
    "https://matplotlib.org/\n",
    "\n",
    "![](assets/matplotlib.png)\n",
    "\n",
    "Advantages:\n",
    "\n",
    "* Simple\n",
    "* Mature (10+ years old)\n",
    "* Can do:\n",
    " * Scatter plots\n",
    " * Bar charts and Histograms\n",
    " * Line plots\n",
    " * Pie charts\n",
    " * Stem plots\n",
    " * Contour plots\n",
    " * Quiver plots\n",
    " * Spectrograms\n",
    " "
   ]
  },
  {
   "cell_type": "markdown",
   "metadata": {
    "colab_type": "text",
    "id": "HnG322UaXUfc"
   },
   "source": [
    "## Seaborn\n",
    "\n",
    "https://seaborn.pydata.org/\n",
    "\n",
    "![](assets/seaborn.png)\n",
    "\n",
    "* Statistical data visualization\n",
    "* Built on top of Matplotlib.\n",
    "* Closely integrated with Pandas\n",
    "* Higher level then Matplotlib, so easier to use\n",
    " * Heat maps\n",
    " * Time series\n",
    " * Violin plots\n",
    "* Default styles and color palettes are more sophisticated"
   ]
  },
  {
   "cell_type": "markdown",
   "metadata": {
    "colab_type": "text",
    "id": "b_NgyaZgawuD"
   },
   "source": [
    "## Plotly\n",
    "\n",
    "This course focuses on Plotly.\n",
    "\n",
    "https://plot.ly/python/\n",
    "\n",
    "![](assets/plotly.png)\n",
    "\n",
    "* javascript plotting library that has Python wrappers for generating the code.\n",
    "* capable of generating interactive plots.\n",
    "* Freemium model (they sell cloud hosted services)\n",
    "* Does nice heatmaps, nice interactive effects like hovering to see data\n",
    "* Can hook up to python widgets to make nice user interfaces in notebooks\n",
    "* \"Dash\" extends plotly for creating analytics web-based dashboards"
   ]
  },
  {
   "cell_type": "markdown",
   "metadata": {
    "colab_type": "text",
    "id": "rgb1BDv1akfD"
   },
   "source": [
    "## Bokeh\n",
    "\n",
    "https://bokeh.pydata.org\n",
    "\n",
    "![](assets/bokeh.png)\n",
    "\n",
    "* based on The Grammar of Graphics.\n",
    "* streaming and real-time data\n",
    "* can create interactive, web-ready plots, which can easily output as JSON objects, HTML documents, or interactive web applications.\n"
   ]
  },
  {
   "cell_type": "markdown",
   "metadata": {},
   "source": [
    "## Paraview\n",
    "\n",
    "![](assets/paraview.jpg)\n",
    "\n",
    "* Scientific visualization\n",
    "* Primarily a standalone application, but has a built-in python interpreter and API\n",
    "* Client/server model\n",
    "* Works on laptops and supercomputers\n",
    "* Advanced: learning curver is steeper than the other listed packages"
   ]
  },
  {
   "cell_type": "markdown",
   "metadata": {
    "colab": {},
    "colab_type": "code",
    "id": "enARve93b15m"
   },
   "source": [
    "**[On to the next notebook (Plotly Scatter plots)](02-plotly-scatter.ipynb) ...**"
   ]
  },
  {
   "cell_type": "code",
   "execution_count": null,
   "metadata": {},
   "outputs": [],
   "source": []
  }
 ],
 "metadata": {
  "colab": {
   "name": "Python-plotting.ipynb",
   "provenance": [],
   "version": "0.3.2"
  },
  "kernelspec": {
   "display_name": "Python 3 (ipykernel)",
   "language": "python",
   "name": "python3"
  },
  "language_info": {
   "codemirror_mode": {
    "name": "ipython",
    "version": 3
   },
   "file_extension": ".py",
   "mimetype": "text/x-python",
   "name": "python",
   "nbconvert_exporter": "python",
   "pygments_lexer": "ipython3",
   "version": "3.9.7"
  }
 },
 "nbformat": 4,
 "nbformat_minor": 4
}
